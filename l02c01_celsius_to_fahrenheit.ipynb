{
  "cells": [
    {
      "cell_type": "markdown",
      "metadata": {
        "id": "view-in-github",
        "colab_type": "text"
      },
      "source": [
        "<a href=\"https://colab.research.google.com/github/Schemm1/Temporal_Fusion_Transform/blob/master/l02c01_celsius_to_fahrenheit.ipynb\" target=\"_parent\"><img src=\"https://colab.research.google.com/assets/colab-badge.svg\" alt=\"Open In Colab\"/></a>"
      ]
    },
    {
      "cell_type": "markdown",
      "metadata": {
        "id": "YHI3vyhv5p85"
      },
      "source": [
        "# Einführung in die Keras API"
      ]
    },
    {
      "cell_type": "markdown",
      "metadata": {
        "id": "F8YVA_634OFk",
        "tags": []
      },
      "source": [
        "Anhand des folgenden einfachen Beispiels soll die Vorgehensweise eines neuronalen Netzes verdeutlicht werden.\n",
        "\n",
        "Hierzu werden Datenpunkte auf dem Intervall [-20,+40] erzeugt (Temperatur[Grad Celsius]) c und in Grad Fahrenheit f anhand folgender Formel umgerechnet:    \n",
        "\n",
        "$$ f = c \\times 1.8 + 32 $$\n"
      ]
    },
    {
      "cell_type": "markdown",
      "metadata": {
        "id": "fA93WUy1zzWf"
      },
      "source": [
        "## Laden der Pakete "
      ]
    },
    {
      "cell_type": "code",
      "execution_count": 2,
      "metadata": {
        "id": "-ZMgCvSRFqxE",
        "tags": []
      },
      "outputs": [],
      "source": [
        "# Tensorflow\n",
        "# interaktive Ploterstellung\n",
        "#%matplotlib ipympl\n",
        "import tensorflow as tf\n",
        "\n",
        "# Laden des Moduls Model und Sequentials\n",
        "from tensorflow.keras import Model\n",
        "from tensorflow.keras.models import Sequential\n",
        "\n",
        "# Laden des Moduls Dense (zur Erstellung vollvermaschte Layer)\n",
        "from tensorflow.keras.layers import Dense, Input\n",
        "\n",
        "# Import weiterer sonstiger Pakete\n",
        "import numpy as np\n",
        "import pandas as pd\n",
        "import logging\n",
        "import matplotlib.pyplot as plt\n",
        "\n",
        "# Standardeinstellungen für die Ausgabe\n",
        "np.set_printoptions(precision=3)\n",
        "pd.set_option('display.precision',2)"
      ]
    },
    {
      "cell_type": "markdown",
      "metadata": {
        "id": "AC3EQFi20buB"
      },
      "source": [
        "## Erstellung der Daten"
      ]
    },
    {
      "cell_type": "code",
      "execution_count": 3,
      "metadata": {
        "id": "gg4pn6aI1vms",
        "tags": [],
        "colab": {
          "base_uri": "https://localhost:8080/",
          "height": 112
        },
        "outputId": "07323b40-7026-4bb4-cf1b-82cdef4330b7"
      },
      "outputs": [
        {
          "output_type": "execute_result",
          "data": {
            "text/plain": [
              "                0      1      2      3      4      5      6      7      8  \\\n",
              "celsius     -9.38  21.35   0.06   1.54  12.44   3.22 -16.73  30.40  -3.09   \n",
              "fahrenheit  15.11  70.43  32.11  34.78  54.39  37.79   1.89  86.73  26.43   \n",
              "\n",
              "                9  \n",
              "celsius     -8.92  \n",
              "fahrenheit  15.94  "
            ],
            "text/html": [
              "\n",
              "  <div id=\"df-27958c46-143e-4a89-813a-229db83bbb49\">\n",
              "    <div class=\"colab-df-container\">\n",
              "      <div>\n",
              "<style scoped>\n",
              "    .dataframe tbody tr th:only-of-type {\n",
              "        vertical-align: middle;\n",
              "    }\n",
              "\n",
              "    .dataframe tbody tr th {\n",
              "        vertical-align: top;\n",
              "    }\n",
              "\n",
              "    .dataframe thead th {\n",
              "        text-align: right;\n",
              "    }\n",
              "</style>\n",
              "<table border=\"1\" class=\"dataframe\">\n",
              "  <thead>\n",
              "    <tr style=\"text-align: right;\">\n",
              "      <th></th>\n",
              "      <th>0</th>\n",
              "      <th>1</th>\n",
              "      <th>2</th>\n",
              "      <th>3</th>\n",
              "      <th>4</th>\n",
              "      <th>5</th>\n",
              "      <th>6</th>\n",
              "      <th>7</th>\n",
              "      <th>8</th>\n",
              "      <th>9</th>\n",
              "    </tr>\n",
              "  </thead>\n",
              "  <tbody>\n",
              "    <tr>\n",
              "      <th>celsius</th>\n",
              "      <td>-9.38</td>\n",
              "      <td>21.35</td>\n",
              "      <td>0.06</td>\n",
              "      <td>1.54</td>\n",
              "      <td>12.44</td>\n",
              "      <td>3.22</td>\n",
              "      <td>-16.73</td>\n",
              "      <td>30.40</td>\n",
              "      <td>-3.09</td>\n",
              "      <td>-8.92</td>\n",
              "    </tr>\n",
              "    <tr>\n",
              "      <th>fahrenheit</th>\n",
              "      <td>15.11</td>\n",
              "      <td>70.43</td>\n",
              "      <td>32.11</td>\n",
              "      <td>34.78</td>\n",
              "      <td>54.39</td>\n",
              "      <td>37.79</td>\n",
              "      <td>1.89</td>\n",
              "      <td>86.73</td>\n",
              "      <td>26.43</td>\n",
              "      <td>15.94</td>\n",
              "    </tr>\n",
              "  </tbody>\n",
              "</table>\n",
              "</div>\n",
              "      <button class=\"colab-df-convert\" onclick=\"convertToInteractive('df-27958c46-143e-4a89-813a-229db83bbb49')\"\n",
              "              title=\"Convert this dataframe to an interactive table.\"\n",
              "              style=\"display:none;\">\n",
              "        \n",
              "  <svg xmlns=\"http://www.w3.org/2000/svg\" height=\"24px\"viewBox=\"0 0 24 24\"\n",
              "       width=\"24px\">\n",
              "    <path d=\"M0 0h24v24H0V0z\" fill=\"none\"/>\n",
              "    <path d=\"M18.56 5.44l.94 2.06.94-2.06 2.06-.94-2.06-.94-.94-2.06-.94 2.06-2.06.94zm-11 1L8.5 8.5l.94-2.06 2.06-.94-2.06-.94L8.5 2.5l-.94 2.06-2.06.94zm10 10l.94 2.06.94-2.06 2.06-.94-2.06-.94-.94-2.06-.94 2.06-2.06.94z\"/><path d=\"M17.41 7.96l-1.37-1.37c-.4-.4-.92-.59-1.43-.59-.52 0-1.04.2-1.43.59L10.3 9.45l-7.72 7.72c-.78.78-.78 2.05 0 2.83L4 21.41c.39.39.9.59 1.41.59.51 0 1.02-.2 1.41-.59l7.78-7.78 2.81-2.81c.8-.78.8-2.07 0-2.86zM5.41 20L4 18.59l7.72-7.72 1.47 1.35L5.41 20z\"/>\n",
              "  </svg>\n",
              "      </button>\n",
              "      \n",
              "  <style>\n",
              "    .colab-df-container {\n",
              "      display:flex;\n",
              "      flex-wrap:wrap;\n",
              "      gap: 12px;\n",
              "    }\n",
              "\n",
              "    .colab-df-convert {\n",
              "      background-color: #E8F0FE;\n",
              "      border: none;\n",
              "      border-radius: 50%;\n",
              "      cursor: pointer;\n",
              "      display: none;\n",
              "      fill: #1967D2;\n",
              "      height: 32px;\n",
              "      padding: 0 0 0 0;\n",
              "      width: 32px;\n",
              "    }\n",
              "\n",
              "    .colab-df-convert:hover {\n",
              "      background-color: #E2EBFA;\n",
              "      box-shadow: 0px 1px 2px rgba(60, 64, 67, 0.3), 0px 1px 3px 1px rgba(60, 64, 67, 0.15);\n",
              "      fill: #174EA6;\n",
              "    }\n",
              "\n",
              "    [theme=dark] .colab-df-convert {\n",
              "      background-color: #3B4455;\n",
              "      fill: #D2E3FC;\n",
              "    }\n",
              "\n",
              "    [theme=dark] .colab-df-convert:hover {\n",
              "      background-color: #434B5C;\n",
              "      box-shadow: 0px 1px 3px 1px rgba(0, 0, 0, 0.15);\n",
              "      filter: drop-shadow(0px 1px 2px rgba(0, 0, 0, 0.3));\n",
              "      fill: #FFFFFF;\n",
              "    }\n",
              "  </style>\n",
              "\n",
              "      <script>\n",
              "        const buttonEl =\n",
              "          document.querySelector('#df-27958c46-143e-4a89-813a-229db83bbb49 button.colab-df-convert');\n",
              "        buttonEl.style.display =\n",
              "          google.colab.kernel.accessAllowed ? 'block' : 'none';\n",
              "\n",
              "        async function convertToInteractive(key) {\n",
              "          const element = document.querySelector('#df-27958c46-143e-4a89-813a-229db83bbb49');\n",
              "          const dataTable =\n",
              "            await google.colab.kernel.invokeFunction('convertToInteractive',\n",
              "                                                     [key], {});\n",
              "          if (!dataTable) return;\n",
              "\n",
              "          const docLinkHtml = 'Like what you see? Visit the ' +\n",
              "            '<a target=\"_blank\" href=https://colab.research.google.com/notebooks/data_table.ipynb>data table notebook</a>'\n",
              "            + ' to learn more about interactive tables.';\n",
              "          element.innerHTML = '';\n",
              "          dataTable['output_type'] = 'display_data';\n",
              "          await google.colab.output.renderOutput(dataTable, element);\n",
              "          const docLink = document.createElement('div');\n",
              "          docLink.innerHTML = docLinkHtml;\n",
              "          element.appendChild(docLink);\n",
              "        }\n",
              "      </script>\n",
              "    </div>\n",
              "  </div>\n",
              "  "
            ]
          },
          "metadata": {},
          "execution_count": 3
        }
      ],
      "source": [
        "# Erstellung eines zufälligen Temperatur-Samples in Grad Celsius\n",
        "celsius    = np.random.uniform(low=-20, high=40, size=100)\n",
        "\n",
        "# Umrechnung in Grad Fahrenheit\n",
        "fahrenheit = celsius*1.8+32\n",
        "\n",
        "# Transfer in einen DataFrame\n",
        "temperature =pd.DataFrame({'celsius':celsius,'fahrenheit':fahrenheit})\n",
        "\n",
        "# Darstellung der Daten (transponiert)\n",
        "temperature[0:10].T"
      ]
    },
    {
      "cell_type": "markdown",
      "metadata": {
        "id": "w74BUOPef9IJ"
      },
      "source": [
        "## Unterteilen in Trainings, Validierungs, und Testdaten"
      ]
    },
    {
      "cell_type": "code",
      "execution_count": 4,
      "metadata": {
        "tags": [],
        "id": "B2wzCLXvf9IK"
      },
      "outputs": [],
      "source": [
        "from sklearn.model_selection import train_test_split\n",
        "\n",
        "# Trainingsdaten werden in Training, Validierung und Testdaten unterteilt\n",
        "x_train, x_test, y_train, y_test = train_test_split(celsius, fahrenheit, test_size=0.3)\n",
        "x_test, x_val, y_test, y_val = train_test_split(x_test, y_test, test_size=0.4)"
      ]
    },
    {
      "cell_type": "markdown",
      "metadata": {
        "id": "VM7_9Klvq7MO"
      },
      "source": [
        "## Aufbau eines Modells vom Typ Sequential"
      ]
    },
    {
      "cell_type": "markdown",
      "metadata": {
        "tags": [],
        "id": "nl6Bj9blf9IL"
      },
      "source": [
        "Tensorflow bietet mit der Keras -Schnittstelle unterschiedliche APIs an, um ein neuronales Netz zu konfigurieren.\n",
        "\n",
        "Wir werden zuerst mit dem Modul `Sequential` arbeiten (Sequential groups a linear stack of layers into a tf.keras.Model).<br>\n",
        "\n",
        "Ein Modelltyp`Sequential` eignet sich für ein vollvermachtes Neuronales Netz aus mehreren Schichten (Layer),  bei dem jede Schicht genau **einen** Eingabetensor (input Layer) und **einen** Ausgabetensor (Outputlayer mit i.d.R. 1 Neuron) hat, oder kurz:<br>\n",
        "<img src=\"KNN.png\" alt=\"KNN\" width=\"800\" >\n",
        "\n",
        "\n",
        "\n",
        "\n",
        "**typische Abfolge**\n",
        "\n",
        "- **Schritt1**: Initialisierung eines KNN-Objektes (Klasse: Sequential)\n",
        "\n",
        "- **Schritt2**: Erstellung der Netzarchitektur (Methoden: add,summary, Layer-Klasse Dense)\n",
        "\n",
        "- **Schritt3**: Compilieren des Objektes (Methode: compile)\n",
        "\n",
        "- **Schritt4**: Trainieren des Netzes (Methode: fit)\n",
        "\n",
        "- **Schritt5**: Überprüfen und Auswerten des Netzes (Methoden: evaluate, predict)\n"
      ]
    },
    {
      "cell_type": "markdown",
      "metadata": {
        "id": "k-Sz7wizf9IL"
      },
      "source": [
        "### **Schritt 1**: Initialisierung eines KNN-Objektes"
      ]
    },
    {
      "cell_type": "markdown",
      "metadata": {
        "id": "ho6f-bdHf9IM"
      },
      "source": [
        "Der Aufruf der Klasse Sequential kann alternativ auch mit Übergabeparametern erfolgen (siehe unten). Dies führt dazu, dass Schritt 1 und 2 zusammengefasst werden."
      ]
    },
    {
      "cell_type": "code",
      "execution_count": 5,
      "metadata": {
        "tags": [],
        "id": "zxygGyhef9IM"
      },
      "outputs": [],
      "source": [
        "KNN = Sequential()"
      ]
    },
    {
      "cell_type": "markdown",
      "metadata": {
        "tags": [],
        "id": "jJKg8z97f9IN"
      },
      "source": [
        "Das Objekt KNN kann als Hülle aufgefasst werden in die nun in Schritt 2 mit der Methode`add()` die jeweiligen \"Layer\" = Schicht iterativ hinzugefügt werden können. <br>Mit der Methode `summary` kann die bis dato zusammengestellte Architektur überprüft werden (Hinweis: diese iterative Überprüfung funktioniert so nur in der API Sequential)."
      ]
    },
    {
      "cell_type": "markdown",
      "metadata": {
        "tags": [],
        "id": "N3shRXNHf9IN"
      },
      "source": [
        "### **Schritt 2**: Hinzufügen von Layer mit Methode add"
      ]
    },
    {
      "cell_type": "markdown",
      "metadata": {
        "tags": [],
        "id": "USSr8ZvFf9IN"
      },
      "source": [
        "In Keras stehen eine Vielzahl von verschiedenen Layern für unterschiedliche Netztypen zur Verfügung. \n",
        "Im Folgenden werden wir uns auf den Layer Typ Dense konzentrieren, der eine vollvermaschte Schicht von Neuronen darstellt. Bis auf die erste Schicht, muss nicht die Anzahl der Inputs spezifiziert werden, da dies intern bestimmt wird!\n",
        "```python\n",
        "tf.keras.layers.Dense(\n",
        "    units,\n",
        "    activation=None,\n",
        "    input_shape=None,\n",
        "    name =None\n",
        "    use_bias=True,\n",
        "    kernel_initializer='glorot_uniform',\n",
        "    bias_initializer='zeros',\n",
        "    kernel_regularizer=None,\n",
        "    bias_regularizer=None,\n",
        "    activity_regularizer=None,\n",
        "    kernel_constraint=None,\n",
        "    bias_constraint=None,\n",
        "    **kwargs\n",
        ")\n",
        "```"
      ]
    },
    {
      "cell_type": "markdown",
      "metadata": {
        "tags": [],
        "id": "Lxu5RX2Uf9IO"
      },
      "source": [
        "Wir beschränken uns hierbei die Argumente `units` und `input_shape` zu übergeben.\n",
        "*   `input_shape=[1]` —  gibt an, dass die Eingabe für diese Schicht ein einzelner Wert ist. Das heißt, die Form ist ein eindimensionales Array mit einem Element. Da dies die erste (und einzige) Ebene ist, ist diese Eingabeform die Eingabeform des gesamten Modells. Der Einzelwert ist eine Fließkommazahl, die Grad Celsius darstellt.\n",
        "\n",
        "*   `units=1` — Hier wird die Anzahl der Neuronen in der Schicht angegeben. Die Anzahl der Neuronen legt fest, wie viele interne Variablen die Schicht zu lernen versucht, um das Problem zu lösen (mehr dazu später). Da es sich um die letzte Schicht handelt, ist dies auch die Größe der Ausgabe des Modells - ein einzelner Fließkommawert, der Grad Fahrenheit darstellt. (In einem mehrschichtigen Netz müssten Größe und Form der Schicht mit der `input_shape` der nächsten Schicht übereinstimmen).\n"
      ]
    },
    {
      "cell_type": "code",
      "execution_count": 6,
      "metadata": {
        "id": "pRllo2HLfXiu",
        "tags": [],
        "colab": {
          "base_uri": "https://localhost:8080/"
        },
        "outputId": "9ced0b99-8cdd-4bf2-9afb-75a2b8e406f7"
      },
      "outputs": [
        {
          "output_type": "stream",
          "name": "stdout",
          "text": [
            "Model: \"sequential\"\n",
            "_________________________________________________________________\n",
            " Layer (type)                Output Shape              Param #   \n",
            "=================================================================\n",
            " Lay1 (Dense)                (None, 1)                 2         \n",
            "                                                                 \n",
            "=================================================================\n",
            "Total params: 2\n",
            "Trainable params: 2\n",
            "Non-trainable params: 0\n",
            "_________________________________________________________________\n"
          ]
        }
      ],
      "source": [
        "KNN.add(Dense(units=1, input_shape=[1],name=\"Lay1\"))\n",
        "# Mit Methode summary kann die ERstellung des Netzes überprüft werden\n",
        "KNN.summary()"
      ]
    },
    {
      "cell_type": "code",
      "execution_count": 7,
      "metadata": {
        "colab": {
          "base_uri": "https://localhost:8080/"
        },
        "id": "sFUdH5_mf9IP",
        "outputId": "2f2c47c3-d35b-4b6e-841e-a86c6db793d0"
      },
      "outputs": [
        {
          "output_type": "execute_result",
          "data": {
            "text/plain": [
              "[<keras.layers.core.dense.Dense at 0x7f361341dfc0>]"
            ]
          },
          "metadata": {},
          "execution_count": 7
        }
      ],
      "source": [
        "#Zugang zu den Layern\n",
        "KNN.layers\n",
        "# falls notwendig können Layer auch wieder entfernt werden\n",
        "#KNN.pop()"
      ]
    },
    {
      "cell_type": "markdown",
      "metadata": {
        "id": "t7pfHfWxust0",
        "tags": []
      },
      "source": [
        "alternative Schreibweise mit direkter Spezifikation der Layer bei Initialisierung des Objektes:\n",
        "```python\n",
        "KNN = Sequential([\n",
        "  Dense(units=1, input_shape=[1])\n",
        "])\n",
        "```"
      ]
    },
    {
      "cell_type": "markdown",
      "metadata": {
        "id": "kiZG7uhm8qCF",
        "tags": []
      },
      "source": [
        "### **Schritt 3**: Kompilieren des Modells und Parametrierung der Optimierungsfunktion"
      ]
    },
    {
      "cell_type": "markdown",
      "metadata": {
        "tags": [],
        "id": "6Tz2wbASf9IP"
      },
      "source": [
        "Mit der Methode `compile` kann das Netz gekapselt werden und der Auftruf der Optimierungsfunktion spezifiziert werden\n",
        "\n",
        "``` python\n",
        "compile(\n",
        "    optimizer='rmsprop',\n",
        "    loss=None,\n",
        "    metrics=None,\n",
        "    loss_weights=None,\n",
        "    weighted_metrics=None,\n",
        "    run_eagerly=None,\n",
        "    steps_per_execution=None,\n",
        "    jit_compile=None,\n",
        "    **kwargs\n",
        ")\n",
        "```\n",
        "\n",
        "Wichtige Parameter in diesem Aufruf sind:<br>\n",
        "\n",
        "- **loss** — die Form der Verlustfunktion (Aweichung zwischen prognostiziertem und beobachteten Label (Output)\n",
        "\n",
        "- **optimizer** — Wahl der Optimierungsfunktion (wird in nächster Sitzung besprochen)\n"
      ]
    },
    {
      "cell_type": "code",
      "execution_count": 8,
      "metadata": {
        "id": "m8YQN1H41L-Y",
        "tags": []
      },
      "outputs": [],
      "source": [
        "KNN.compile(loss='mean_squared_error',optimizer=tf.keras.optimizers.Adam(learning_rate=0.1))"
      ]
    },
    {
      "cell_type": "markdown",
      "metadata": {
        "id": "c-Jk4dG91dvD"
      },
      "source": [
        "### **Schritt 4**: Trainieren des Modells"
      ]
    },
    {
      "cell_type": "markdown",
      "metadata": {
        "tags": [],
        "id": "cKYGerdaf9IQ"
      },
      "source": [
        "Während des Trainings nimmt das Modell das Feature Temperatur in Celsius als Input auf, berechnet mit den `Gewichten` die `Nettoeingabe` und führt auf der Nettoeingabe die `Aktivierung` des Neurons durch. In diesem Fall ist die Aktivierung linear (Nettoeingabe = Aktivierung). Das Ergebnis ist die Übergabe an die nächste Schicht oder der wie in diesem Fall direkt der prognostizierte Featurewert (bei Modellen mit mehreren Schichten wird dieser in der letzten Schicht ausgegeben). Auf Basis des prognostizierten Featurewertes wird die Verlustfunktion gegenüber dem tatsächlichen Featurewert bestimmt und über alle `Samples` des `Batches` summiert. Durch Anpassung (Trainieren) der Gewichte mit Hilfe des `Gradientenabstiegsverfahrens` und dem `Backpropagation` zur Bestimmung der Ableitungen wird über die vorgegebene Anzahl von `Zyklen` = Epochs * Samplesize(Trainingsdaten)/Batchgröße die Anpassung der Gewichte vorgenommen. \n",
        "\n",
        "Mit der Methode `fit` wird das Modell trainiert. <br>\n",
        "```python\n",
        "fit(\n",
        "    x=None,\n",
        "    y=None,\n",
        "    batch_size=None,\n",
        "    epochs=1,\n",
        "    verbose='auto',\n",
        "    callbacks=None,\n",
        "    validation_split=0.0,\n",
        "    validation_data=None,\n",
        "    shuffle=True,\n",
        "    class_weight=None,\n",
        "    sample_weight=None,\n",
        "    initial_epoch=0,\n",
        "    steps_per_epoch=None,\n",
        "    validation_steps=None,\n",
        "    validation_batch_size=None,\n",
        "    validation_freq=1,\n",
        "    max_queue_size=10,\n",
        "    workers=1,\n",
        "    use_multiprocessing=False\n",
        ")\n",
        "```\n",
        "\n",
        "Wichtige Parameter in diesem Aufruf sind:<br>\n",
        "\n",
        "- **x,y** — Features und Labels des Trainingdatensatzes\n",
        "\n",
        "- **validation_data** — Features und Labels des Validierungsdatensatzes (zur Festlegung der Hyperparameter)\n",
        "\n",
        "- **batch_size** - Anzahl der Samples zur Berechnung der Verlustfunktion\n",
        "\n",
        "- **epochs** - Anzahl der Iterationen des kompletten (Training)-Datenbestandes  \n",
        "\n",
        "- **callbacks** - Anweisungen, welche an einem bestimmten Punkt des funktionsaufrufs durchgeführt werden soll (z.B. Speicherung des Modells mit dem besten Validierungs-Loss oder Abbruchkriterium für das Trainieren, falls keine Verbesserungen mehr erzeilt werden können) "
      ]
    },
    {
      "cell_type": "code",
      "execution_count": 9,
      "metadata": {
        "id": "lpRrl7WK10Pq",
        "tags": [],
        "colab": {
          "base_uri": "https://localhost:8080/"
        },
        "outputId": "9eaf3985-2751-4af3-bb0d-5e1a5c1463c2"
      },
      "outputs": [
        {
          "output_type": "stream",
          "name": "stdout",
          "text": [
            "Finished training the model\n"
          ]
        }
      ],
      "source": [
        "from tensorflow.keras.callbacks import ModelCheckpoint, EarlyStopping\n",
        "\n",
        "# Abbrufkriterium, falls sich über eine definierte Anzahl von Anpassungen der Validierungs-Loss nicht verbessert\n",
        "early = EarlyStopping(monitor='val_loss', patience=50)\n",
        "\n",
        "# Anweisung zur Speicherung des besten Modells\n",
        "check = ModelCheckpoint(filepath='modelTempUmrechnung.h5', \n",
        "                        monitor='val_loss', save_best_only=True)\n",
        "epochen =400\n",
        "\n",
        "history = KNN.fit(x_train, y_train, epochs=epochen,verbose = None, validation_data = (x_val,y_val), callbacks = [early,check])\n",
        "print(\"Finished training the model\")"
      ]
    },
    {
      "cell_type": "markdown",
      "metadata": {
        "id": "0-QsNCLD4MJZ",
        "tags": []
      },
      "source": [
        "### **Schritt 5**: Überprüfen und Auswerten des Netzes"
      ]
    },
    {
      "cell_type": "markdown",
      "metadata": {
        "id": "Ylh3yEr0f9IS"
      },
      "source": [
        "**Betrachtung der Entwicklung der Verlustfunktion der Datensätze im Training** "
      ]
    },
    {
      "cell_type": "code",
      "execution_count": 10,
      "metadata": {
        "id": "IeK6BzfbdO6_",
        "tags": [],
        "colab": {
          "base_uri": "https://localhost:8080/",
          "height": 619
        },
        "outputId": "c83f4fb9-d288-46fd-9d8b-39cd3fee195e"
      },
      "outputs": [
        {
          "output_type": "display_data",
          "data": {
            "text/plain": [
              "<Figure size 1800x700 with 1 Axes>"
            ],
            "image/png": "[encoded data removed]"
          },
          "metadata": {}
        }
      ],
      "source": [
        "# Betrachtung \n",
        "fig, ax =plt.subplots(nrows=1,ncols=1,**{'figsize': (18, 7)})\n",
        "lin1 = ax.plot(history.history['loss'],label='train_loss')\n",
        "lin2 = ax.plot(history.history['val_loss'],label='val_loss')\n",
        "\n",
        "ax.set(xlabel='Epoche',ylabel='loss')\n",
        "ax.legend();"
      ]
    },
    {
      "cell_type": "markdown",
      "metadata": {
        "id": "LtQGDMob5LOD"
      },
      "source": [
        "**Erstellung von Prognosen des Testdatensatzes**"
      ]
    },
    {
      "cell_type": "code",
      "execution_count": 11,
      "metadata": {
        "id": "oxNzL4lS2Gui",
        "tags": [],
        "colab": {
          "base_uri": "https://localhost:8080/"
        },
        "outputId": "d7dac4c6-cc78-4a12-a6fb-86b50e8a51f9"
      },
      "outputs": [
        {
          "output_type": "stream",
          "name": "stdout",
          "text": [
            "1/1 [==============================] - 0s 121ms/step\n",
            "[[212.147]]\n"
          ]
        }
      ],
      "source": [
        "print(KNN.predict([100.0]))"
      ]
    },
    {
      "cell_type": "markdown",
      "metadata": {
        "id": "jApk6tZ1fBg1",
        "tags": []
      },
      "source": [
        "Korrekter Wert $100 \\times 1.8 + 32 = 212$, "
      ]
    },
    {
      "cell_type": "markdown",
      "metadata": {
        "id": "zRrOky5gm20Z"
      },
      "source": [
        "**Betrachtung der trainierten Gewichte**"
      ]
    },
    {
      "cell_type": "code",
      "execution_count": 12,
      "metadata": {
        "id": "kmIkVdkbnZJI",
        "tags": [],
        "colab": {
          "base_uri": "https://localhost:8080/"
        },
        "outputId": "6ebb18f9-0cb3-4acf-9bf9-4a0a20d5295f"
      },
      "outputs": [
        {
          "output_type": "stream",
          "name": "stdout",
          "text": [
            "Gewichte: [array([[1.802]], dtype=float32), array([31.912], dtype=float32)]\n"
          ]
        }
      ],
      "source": [
        "print(\"Gewichte: {}\".format(KNN.get_layer(index=0).get_weights()))"
      ]
    },
    {
      "cell_type": "markdown",
      "metadata": {
        "id": "RSplSnMvnWC-",
        "tags": []
      },
      "source": [
        "Das neuronale Netz fungiert wie eine klassische lineare Regression $y = mx + b$,um die Umrechnungsformel zu replizieren $f = 1.8c + 32$."
      ]
    },
    {
      "cell_type": "markdown",
      "metadata": {
        "id": "whpzC1b-f9IU"
      },
      "source": [
        "## Aufgabe"
      ]
    },
    {
      "cell_type": "markdown",
      "metadata": {
        "id": "gaTLO3Pff9IU"
      },
      "source": [
        " 1. Verändern Sie die Lernrate des Optimierers. Was fällt auf hinsichtlich Laufzeit und Konvergenzverhalten?\n",
        " 2. Erstellen Sie ein Netz mit mehr Neuronen und Layern vom Typ Dense\n",
        " 3. Betrachten Sie den Trainingserfolg\n",
        " 4. Versuchen Sie die resultierenden Gewichte zu interpretieren\n",
        " 5. Fügen Sie bei Erstellung der !!Trainingswerte für das Label (y)!! ein Rauschen ein:\n",
        "    - y_train = ytrain + np.random.normal(loc = 0.0, scale = 1.0, size = None)\n",
        "    - Betrachten Sie nun den Erfolg (Validierungsloss) des einfachen Netzes und des komplexeren Netzes am Ende der betrachten Epochen im entsprechenden Plot oben"
      ]
    },
    {
      "cell_type": "markdown",
      "metadata": {
        "id": "Y2zTA-rDS5Xk",
        "tags": []
      },
      "source": [
        "Erweiterung \n",
        "l0 = tf.keras.layers.Dense(units=4, input_shape=[1])\n",
        "l1 = tf.keras.layers.Dense(units=4)\n",
        "l2 = tf.keras.layers.Dense(units=1)\n",
        "model = tf.keras.Sequential([l0, l1, l2])\n",
        "model.compile(loss='mean_squared_error', optimizer=tf.keras.optimizers.Adam(0.1))\n",
        "model.fit(celsius_q, fahrenheit_a, epochs=500, verbose=False)\n",
        "print(\"Finished training the model\")\n",
        "print(model.predict([100.0]))\n",
        "print(\"Model predicts that 100 degrees Celsius is: {} degrees Fahrenheit\".format(model.predict([100.0])))\n",
        "print(\"These are the l0 variables: {}\".format(l0.get_weights()))\n",
        "print(\"These are the l1 variables: {}\".format(l1.get_weights()))\n",
        "print(\"These are the l2 variables: {}\".format(l2.get_weights()))"
      ]
    },
    {
      "cell_type": "code",
      "execution_count": null,
      "metadata": {
        "id": "dBX78U4Lf9IU"
      },
      "outputs": [],
      "source": []
    }
  ],
  "metadata": {
    "colab": {
      "provenance": [],
      "toc_visible": true,
      "include_colab_link": true
    },
    "kernelspec": {
      "display_name": "Python 3 (Spyder)",
      "language": "python3",
      "name": "python3"
    },
    "language_info": {
      "codemirror_mode": {
        "name": "ipython",
        "version": 3
      },
      "file_extension": ".py",
      "mimetype": "text/x-python",
      "name": "python",
      "nbconvert_exporter": "python",
      "pygments_lexer": "ipython3",
      "version": "3.9.16"
    }
  },
  "nbformat": 4,
  "nbformat_minor": 0
}